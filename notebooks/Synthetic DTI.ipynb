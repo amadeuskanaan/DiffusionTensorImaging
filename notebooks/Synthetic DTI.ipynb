{
 "cells": [
  {
   "cell_type": "code",
   "execution_count": 1,
   "metadata": {},
   "outputs": [],
   "source": [
    "import os\n",
    "import os.path\n",
    "import sys\n",
    "import numpy as np\n",
    "%matplotlib inline\n",
    "import matplotlib.pyplot as plt\n",
    "\n",
    "module_path = os.path.join(os.path.abspath(os.path.join('..')), 'pymods')\n",
    "if module_path not in sys.path:\n",
    "    sys.path.append(module_path)\n",
    "from plotutils import plot_3d_z_indices\n",
    "\n",
    "import warnings\n",
    "warnings.simplefilter(action='ignore', category=FutureWarning)\n",
    "import nibabel as nib\n"
   ]
  },
  {
   "cell_type": "code",
   "execution_count": 3,
   "metadata": {},
   "outputs": [],
   "source": [
    "base_filename = \"../data/output/S264294/S264294_DTI_gated_20150508093306_12\"\n",
    "fdwi = base_filename + \"_crop.nii.gz\"\n",
    "fbval = base_filename + \".bval\"\n",
    "fbvec = base_filename + \".bvec\""
   ]
  },
  {
   "cell_type": "code",
   "execution_count": 4,
   "metadata": {},
   "outputs": [],
   "source": [
    "img = nib.load(fdwi)\n",
    "data = img.get_data()"
   ]
  },
  {
   "cell_type": "code",
   "execution_count": 5,
   "metadata": {},
   "outputs": [
    {
     "data": {
      "text/plain": [
       "(40, 45, 12, 65)"
      ]
     },
     "execution_count": 5,
     "metadata": {},
     "output_type": "execute_result"
    }
   ],
   "source": [
    "data.shape"
   ]
  },
  {
   "cell_type": "code",
   "execution_count": 6,
   "metadata": {},
   "outputs": [],
   "source": [
    "from dipy.io import read_bvals_bvecs\n",
    "bvals, bvecs = read_bvals_bvecs(fbval, fbvec)"
   ]
  },
  {
   "cell_type": "code",
   "execution_count": 21,
   "metadata": {},
   "outputs": [],
   "source": [
    "from dipy.core.gradients import gradient_table\n",
    "gtab = gradient_table(bvals, bvecs)\n",
    "b_value = gtab.bvals[1]"
   ]
  },
  {
   "cell_type": "code",
   "execution_count": 76,
   "metadata": {},
   "outputs": [],
   "source": [
    "from dipy.reconst.dti import fractional_anisotropy, mean_diffusivity\n",
    "\n",
    "def print_tensor_metrics(D):\n",
    "    eigval = np.linalg.eigvalsh(D)\n",
    "    print(\"Eigval = \", eigval)\n",
    "    print(\"FA = %.2f\" % fractional_anisotropy(eigval))\n",
    "    print(\"MD (x1000) = %.2f\" % (mean_diffusivity(eigval) * 1000.))\n",
    "\n",
    "\n",
    "def create_LDLT_matrix(lower, diag, scale = 1.):\n",
    "    \"\"\"Return D = LDL^T / scale \"\"\"\n",
    "    return (lower @ diag @ lower.transpose() *scale)"
   ]
  },
  {
   "cell_type": "code",
   "execution_count": 77,
   "metadata": {},
   "outputs": [
    {
     "name": "stdout",
     "output_type": "stream",
     "text": [
      "[[0.0018   0.00018  0.00036 ]\n",
      " [0.00018  0.001018 0.000336]\n",
      " [0.00036  0.000336 0.000362]]\n",
      "Eigval =  [0.00017561 0.0010477  0.00195669]\n",
      "FA = 0.69\n",
      "MD (x1000) = 1.06\n"
     ]
    }
   ],
   "source": [
    "# Create a tensor that approximates some tissue\n",
    "l_left = np.array([\n",
    "    [ 1,  0, 0],\n",
    "    [.1,  1, 0],\n",
    "    [.2, .3, 1]])\n",
    "diag_left = np.array([\n",
    "    [ 1.8,  0, 0],\n",
    "    [ 0,  1, 0],\n",
    "    [ 0, 0,  0.2]])\n",
    "\n",
    "D_left = create_LDLT_matrix(l_left, diag_left, scale=1./b_value)\n",
    "print(D_left)\n",
    "print_tensor_metrics(D_left)"
   ]
  },
  {
   "cell_type": "code",
   "execution_count": 79,
   "metadata": {},
   "outputs": [
    {
     "name": "stdout",
     "output_type": "stream",
     "text": [
      "[[0.003   0.0003  0.     ]\n",
      " [0.0003  0.00303 0.0003 ]\n",
      " [0.      0.0003  0.00303]]\n",
      "Eigval =  [0.0025979  0.00301502 0.00344709]\n",
      "FA = 0.14\n",
      "MD (x1000) = 3.02\n"
     ]
    }
   ],
   "source": [
    "# Create a tensor that approximates water\n",
    "l_right = np.array([\n",
    "    [ 1,  0, 0],\n",
    "    [ 0.1,  1, 0],\n",
    "    [ 0, 0.1, 1]])\n",
    "diag_right = np.array([\n",
    "    [ 3,  0, 0],\n",
    "    [ 0,  3, 0],\n",
    "    [ 0,  0, 3]])\n",
    "D_right = create_LDLT_matrix(l_right, diag_right, scale=1./b_value)\n",
    "print(D_right)\n",
    "print_tensor_metrics(D_right)"
   ]
  },
  {
   "cell_type": "code",
   "execution_count": 337,
   "metadata": {},
   "outputs": [
    {
     "name": "stdout",
     "output_type": "stream",
     "text": [
      "Eigval =  [0.00016223 0.00095035 0.00200778]\n",
      "FA = 0.72\n",
      "MD (x1000) = 1.04\n",
      "Eigval =  [0.0026922  0.00288899 0.0034927 ]\n",
      "FA = 0.14\n",
      "MD (x1000) = 3.02\n"
     ]
    }
   ],
   "source": [
    "lower_error_sigma = 0.05\n",
    "diag_error_sigma = 0.1 \n",
    "\n",
    "def randomize_lower_matrix(lower, sigma = lower_error_sigma):\n",
    "    ret = lower.copy()\n",
    "    ret[0,1] += np.random.normal(scale=sigma)\n",
    "    ret[0,2] += np.random.normal(scale=sigma)\n",
    "    ret[1,2] += np.random.normal(scale=sigma)\n",
    "    return(ret)\n",
    "\n",
    "def randomize_diagonal_matrix(diag, sigma = diag_error_sigma):\n",
    "    ret = diag.copy()\n",
    "    ret[0,0] += np.random.normal(scale=sigma)\n",
    "    ret[1,1] += np.random.normal(scale=sigma)\n",
    "    ret[2,2] += np.random.normal(scale=sigma)\n",
    "    return(ret)\n",
    "\n",
    "def randomize_d(l, diag):\n",
    "    return(create_LDLT_matrix(randomize_lower_matrix(l), \n",
    "                         randomize_diagonal_matrix(diag), \n",
    "                          scale = 1 /b_value))\n",
    "\n",
    "print_tensor_metrics(randomize_d(l_left, diag_left))\n",
    "\n",
    "print_tensor_metrics(randomize_d(l_right, diag_right))\n"
   ]
  },
  {
   "cell_type": "code",
   "execution_count": 339,
   "metadata": {},
   "outputs": [
    {
     "data": {
      "text/plain": [
       "(64, 3)"
      ]
     },
     "execution_count": 339,
     "metadata": {},
     "output_type": "execute_result"
    }
   ],
   "source": [
    "qk = gtab.bvecs[~gtab.b0s_mask]\n",
    "qk.shape"
   ]
  },
  {
   "cell_type": "code",
   "execution_count": 368,
   "metadata": {},
   "outputs": [
    {
     "data": {
      "text/plain": [
       "2216"
      ]
     },
     "execution_count": 368,
     "metadata": {},
     "output_type": "execute_result"
    }
   ],
   "source": [
    "data.max()"
   ]
  },
  {
   "cell_type": "code",
   "execution_count": 388,
   "metadata": {},
   "outputs": [
    {
     "data": {
      "text/plain": [
       "dtype('<i2')"
      ]
     },
     "execution_count": 388,
     "metadata": {},
     "output_type": "execute_result"
    }
   ],
   "source": [
    "data.dtype"
   ]
  },
  {
   "cell_type": "code",
   "execution_count": 386,
   "metadata": {},
   "outputs": [],
   "source": [
    "output_data = data.copy()"
   ]
  },
  {
   "cell_type": "code",
   "execution_count": 413,
   "metadata": {},
   "outputs": [],
   "source": [
    "def create_qTDq_matrix(qk, D):\n",
    "    ret = qk[:, 0] * qk[:, 0] * D[0,0] + \\\n",
    "        qk[:, 1] * qk[:, 1] * D[1,1] + \\\n",
    "        qk[:, 2] * qk[:, 2] * D[2,2] + \\\n",
    "        qk[:, 0] * qk[:, 1] * D[0, 1] * 2 + \\\n",
    "        qk[:, 0] * qk[:, 2] * D[0, 2] * 2 + \\\n",
    "        qk[:, 1] * qk[:, 2] * D[1, 2] * 2\n",
    "    return (ret)"
   ]
  },
  {
   "cell_type": "code",
   "execution_count": 406,
   "metadata": {},
   "outputs": [
    {
     "data": {
      "text/plain": [
       "(40, 45, 12, 65)"
      ]
     },
     "execution_count": 406,
     "metadata": {},
     "output_type": "execute_result"
    }
   ],
   "source": [
    "output_data.shape "
   ]
  },
  {
   "cell_type": "code",
   "execution_count": 411,
   "metadata": {},
   "outputs": [
    {
     "data": {
      "text/plain": [
       "False"
      ]
     },
     "execution_count": 411,
     "metadata": {},
     "output_type": "execute_result"
    }
   ],
   "source": [
    "20 > output_data.shape[0] / 2"
   ]
  },
  {
   "cell_type": "code",
   "execution_count": 415,
   "metadata": {},
   "outputs": [],
   "source": [
    "for idx in np.ndindex(output_data.shape[:-1]):\n",
    "    D = None\n",
    "    if idx[0] > output_data.shape[0]/2:\n",
    "        D = randomize_d(l_left, diag_left)\n",
    "    else:\n",
    "        D = randomize_d(l_right, diag_right)\n",
    "    ret = create_qTDq_matrix(qk, D)\n",
    "    attn = np.exp(-b_value * ret)\n",
    "    scaled_attn = output_data[idx + (0,)] * attn \n",
    "    output_data[idx + (slice(1, None, None),)] = scaled_attn.astype(output_data.dtype)    "
   ]
  },
  {
   "cell_type": "code",
   "execution_count": 416,
   "metadata": {},
   "outputs": [],
   "source": [
    "syn_file = base_filename + \"_syn.nii.gz\"\n",
    "nib.save(nib.Nifti1Image(output_data, img.affine), syn_file)"
   ]
  }
 ],
 "metadata": {
  "kernelspec": {
   "display_name": "Python 3",
   "language": "python",
   "name": "python3"
  },
  "language_info": {
   "codemirror_mode": {
    "name": "ipython",
    "version": 3
   },
   "file_extension": ".py",
   "mimetype": "text/x-python",
   "name": "python",
   "nbconvert_exporter": "python",
   "pygments_lexer": "ipython3",
   "version": "3.5.2"
  },
  "widgets": {
   "state": {},
   "version": "1.1.2"
  }
 },
 "nbformat": 4,
 "nbformat_minor": 2
}
