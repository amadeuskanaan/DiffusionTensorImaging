{
 "cells": [
  {
   "cell_type": "markdown",
   "metadata": {},
   "source": [
    "# Pipeline to process PPMI MRI diffusion data\n",
    "\n",
    "### Data\n",
    "Data is downloaded in raw DICOM format from the PPMI website. The example selected here at random is a patient over 70 years old and getting a scan in year 4. \n",
    "\n",
    "### Processing\n",
    "This pipeline is a record of the basic steps to preprocess the data before statistical analysis. The PPMI pre-processing pipeline is available at http://www.ppmi-info.org/wp-content/uploads/2011/12/DTI-processing-Pipeline3.pdf\n",
    "1. Download the data into an input directory, setup workspace\n",
    "1. Convert the DICOM format to NII format, compute bvals and bvecs\n",
    "1. Correct each scan for signal distortions due to eddy currents and head motion\n",
    "1. Rotate gradient directions in response to eddy current corrections. \n",
    "1. Remove non-brain tissue\n",
    "1. Save the data into an output directory\n",
    "\n",
    "\n",
    "This pipeline mainly follows this tutorial http://www.mccauslandcenter.sc.edu/crnl/sw/tutorial/html/dti.html"
   ]
  },
  {
   "cell_type": "markdown",
   "metadata": {},
   "source": [
    "### Setup\n",
    "1. Download the data, create directories"
   ]
  },
  {
   "cell_type": "code",
   "execution_count": 1,
   "metadata": {},
   "outputs": [
    {
     "name": "stdout",
     "output_type": "stream",
     "text": [
      "total 145080\n",
      "drwxrwx--- 1 root vboxsf    2144 Apr 17 08:27 .\n",
      "drwxrwx--- 1 root vboxsf     128 Apr 17 09:49 ..\n",
      "-rwxrwx--- 1 root vboxsf 2283182 Apr 12 20:06 PPMI_3107_MR_DTI_gated__br_raw_20150629091644684_2_S264294_I498877.dcm\n",
      "-rwxrwx--- 1 root vboxsf 2283200 Apr 12 20:06 PPMI_3107_MR_DTI_gated__br_raw_20150629091645962_33_S264294_I498877.dcm\n",
      "-rwxrwx--- 1 root vboxsf 2283196 Apr 12 20:05 PPMI_3107_MR_DTI_gated__br_raw_20150629091647410_20_S264294_I498877.dcm\n"
     ]
    }
   ],
   "source": [
    "%%bash\n",
    "ls -al  ../data/input/S264294 | head -6"
   ]
  },
  {
   "cell_type": "code",
   "execution_count": 2,
   "metadata": {},
   "outputs": [
    {
     "name": "stdout",
     "output_type": "stream",
     "text": [
      "142M\t../data/input/S264294\n"
     ]
    }
   ],
   "source": [
    "%%bash\n",
    "du -s -h ../data/input/S264294"
   ]
  },
  {
   "cell_type": "code",
   "execution_count": 4,
   "metadata": {},
   "outputs": [],
   "source": [
    "%%bash\n",
    "mkdir -p ../data/working/S264294\n",
    "mkdir -p ../data/output/S264294"
   ]
  },
  {
   "cell_type": "markdown",
   "metadata": {},
   "source": [
    "### Convert DICOM data to NII"
   ]
  },
  {
   "cell_type": "code",
   "execution_count": 7,
   "metadata": {},
   "outputs": [
    {
     "name": "stdout",
     "output_type": "stream",
     "text": [
      "Chris Rorden's dcm2niiX version v1.0.20180328 GCC5.4.0 (64-bit Linux)\n",
      "Found 65 DICOM image(s)\n",
      "Warning: Assuming 7FE0,0010 refers to image not icon\n",
      "Warning: Assuming 7FE0,0010 refers to image not icon\n",
      "Warning: Assuming 7FE0,0010 refers to image not icon\n",
      "Warning: Assuming 7FE0,0010 refers to image not icon\n",
      "Warning: Assuming 7FE0,0010 refers to image not icon\n",
      "Warning: Assuming 7FE0,0010 refers to image not icon\n",
      "Warning: Assuming 7FE0,0010 refers to image not icon\n",
      "Warning: Assuming 7FE0,0010 refers to image not icon\n",
      "Warning: Assuming 7FE0,0010 refers to image not icon\n",
      "Warning: Assuming 7FE0,0010 refers to image not icon\n",
      "Warning: Assuming 7FE0,0010 refers to image not icon\n",
      "Warning: Assuming 7FE0,0010 refers to image not icon\n",
      "Warning: Assuming 7FE0,0010 refers to image not icon\n",
      "Warning: Assuming 7FE0,0010 refers to image not icon\n",
      "Warning: Assuming 7FE0,0010 refers to image not icon\n",
      "Warning: Assuming 7FE0,0010 refers to image not icon\n",
      "Warning: Assuming 7FE0,0010 refers to image not icon\n",
      "Warning: Assuming 7FE0,0010 refers to image not icon\n",
      "Warning: Assuming 7FE0,0010 refers to image not icon\n",
      "Warning: Assuming 7FE0,0010 refers to image not icon\n",
      "Warning: Assuming 7FE0,0010 refers to image not icon\n",
      "Warning: Assuming 7FE0,0010 refers to image not icon\n",
      "Warning: Assuming 7FE0,0010 refers to image not icon\n",
      "Warning: Assuming 7FE0,0010 refers to image not icon\n",
      "Warning: Assuming 7FE0,0010 refers to image not icon\n",
      "Warning: Assuming 7FE0,0010 refers to image not icon\n",
      "Warning: Assuming 7FE0,0010 refers to image not icon\n",
      "Warning: Assuming 7FE0,0010 refers to image not icon\n",
      "Warning: Assuming 7FE0,0010 refers to image not icon\n",
      "Warning: Assuming 7FE0,0010 refers to image not icon\n",
      "Warning: Assuming 7FE0,0010 refers to image not icon\n",
      "Warning: Assuming 7FE0,0010 refers to image not icon\n",
      "Warning: Assuming 7FE0,0010 refers to image not icon\n",
      "Warning: Assuming 7FE0,0010 refers to image not icon\n",
      "Warning: Assuming 7FE0,0010 refers to image not icon\n",
      "Warning: Assuming 7FE0,0010 refers to image not icon\n",
      "Warning: Assuming 7FE0,0010 refers to image not icon\n",
      "Warning: Assuming 7FE0,0010 refers to image not icon\n",
      "Warning: Assuming 7FE0,0010 refers to image not icon\n",
      "Warning: Assuming 7FE0,0010 refers to image not icon\n",
      "Warning: Assuming 7FE0,0010 refers to image not icon\n",
      "Warning: Assuming 7FE0,0010 refers to image not icon\n",
      "Warning: Assuming 7FE0,0010 refers to image not icon\n",
      "Warning: Assuming 7FE0,0010 refers to image not icon\n",
      "Warning: Assuming 7FE0,0010 refers to image not icon\n",
      "Warning: Assuming 7FE0,0010 refers to image not icon\n",
      "Warning: Assuming 7FE0,0010 refers to image not icon\n",
      "Warning: Assuming 7FE0,0010 refers to image not icon\n",
      "Warning: Assuming 7FE0,0010 refers to image not icon\n",
      "Warning: Assuming 7FE0,0010 refers to image not icon\n",
      "Warning: Assuming 7FE0,0010 refers to image not icon\n",
      "Warning: Assuming 7FE0,0010 refers to image not icon\n",
      "Warning: Assuming 7FE0,0010 refers to image not icon\n",
      "Warning: Assuming 7FE0,0010 refers to image not icon\n",
      "Warning: Assuming 7FE0,0010 refers to image not icon\n",
      "Warning: Assuming 7FE0,0010 refers to image not icon\n",
      "Warning: Assuming 7FE0,0010 refers to image not icon\n",
      "Warning: Assuming 7FE0,0010 refers to image not icon\n",
      "Warning: Assuming 7FE0,0010 refers to image not icon\n",
      "Warning: Assuming 7FE0,0010 refers to image not icon\n",
      "Warning: Assuming 7FE0,0010 refers to image not icon\n",
      "Warning: Assuming 7FE0,0010 refers to image not icon\n",
      "Warning: Assuming 7FE0,0010 refers to image not icon\n",
      "Warning: Assuming 7FE0,0010 refers to image not icon\n",
      "Warning: Assuming 7FE0,0010 refers to image not icon\n",
      "slices stacked despite varying acquisition numbers (if this is not desired please recompile)\n",
      "Warning: CSA slice timing appears corrupted (range 0..11857.5, TR=900ms)\n",
      "Warning: Saving 65 DTI gradients. Validate vectors (image slice orientation not reported, e.g. 2001,100B).\n",
      "Convert 65 DICOM as ../data/working/S264294/S264294_DTI_gated_20150508093306_12 (116x116x72x65)\n",
      "compress: \"/usr/bin/pigz\" -n -f -6 \"../data/working/S264294/S264294_DTI_gated_20150508093306_12.nii\"\n",
      "Conversion required 19.924435 seconds (1.513300 for core code).\n"
     ]
    }
   ],
   "source": [
    "%%bash\n",
    "dcm2niix -o ../data/working/S264294 -z y  ../data/input/S264294"
   ]
  },
  {
   "cell_type": "code",
   "execution_count": 8,
   "metadata": {},
   "outputs": [
    {
     "name": "stdout",
     "output_type": "stream",
     "text": [
      "total 60132\n",
      "drwxrwx--- 1 root vboxsf      192 May 15 16:35 .\n",
      "drwxrwx--- 1 root vboxsf      128 Apr 17 10:08 ..\n",
      "-rwxrwx--- 1 root vboxsf      322 May 15 16:34 S264294_DTI_gated_20150508093306_12.bval\n",
      "-rwxrwx--- 1 root vboxsf     1815 May 15 16:34 S264294_DTI_gated_20150508093306_12.bvec\n",
      "-rwxrwx--- 1 root vboxsf     2310 May 15 16:34 S264294_DTI_gated_20150508093306_12.json\n",
      "-rwxrwx--- 1 root vboxsf 61001413 May 15 16:34 S264294_DTI_gated_20150508093306_12.nii.gz\n"
     ]
    }
   ],
   "source": [
    "%%bash\n",
    "ls -al ../data/working/S264294"
   ]
  },
  {
   "cell_type": "code",
   "execution_count": 10,
   "metadata": {},
   "outputs": [],
   "source": [
    "%matplotlib inline\n",
    "import nibabel as nib\n",
    "\n",
    "img = nib.load(\"../data/working/S264294/S264294_DTI_gated_20150508093306_12.nii.gz\")"
   ]
  },
  {
   "cell_type": "code",
   "execution_count": 11,
   "metadata": {},
   "outputs": [
    {
     "name": "stdout",
     "output_type": "stream",
     "text": [
      "<class 'nibabel.nifti1.Nifti1Header'> object, endian='<'\n",
      "sizeof_hdr      : 348\n",
      "data_type       : b''\n",
      "db_name         : b''\n",
      "extents         : 0\n",
      "session_error   : 0\n",
      "regular         : b'r'\n",
      "dim_info        : 57\n",
      "dim             : [  4 116 116  72  65   0   0   0]\n",
      "intent_p1       : 0.0\n",
      "intent_p2       : 0.0\n",
      "intent_p3       : 0.0\n",
      "intent_code     : none\n",
      "datatype        : int16\n",
      "bitpix          : 16\n",
      "slice_start     : 0\n",
      "pixdim          : [-1.         1.9827586  1.9827586  2.         0.9        0.\n",
      "  0.         0.       ]\n",
      "vox_offset      : 0.0\n",
      "scl_slope       : nan\n",
      "scl_inter       : nan\n",
      "slice_end       : 0\n",
      "slice_code      : sequential increasing\n",
      "xyzt_units      : 10\n",
      "cal_max         : 0.0\n",
      "cal_min         : 0.0\n",
      "slice_duration  : 0.0\n",
      "toffset         : 0.0\n",
      "glmax           : 0\n",
      "glmin           : 0\n",
      "descrip         : b'TE=88;Time=101826.620;phase=1'\n",
      "aux_file        : b''\n",
      "qform_code      : scanner\n",
      "sform_code      : scanner\n",
      "quatern_b       : 0.0\n",
      "quatern_c       : 1.0\n",
      "quatern_d       : 0.0\n",
      "qoffset_x       : 114.99999\n",
      "qoffset_y       : -93.45097\n",
      "qoffset_z       : -66.27711\n",
      "srow_x          : [ -1.9827586   0.         -0.        114.99999  ]\n",
      "srow_y          : [ -0.          1.9827586  -0.        -93.45097  ]\n",
      "srow_z          : [  0.        0.        2.      -66.27711]\n",
      "intent_name     : b''\n",
      "magic           : b'n+1'\n"
     ]
    }
   ],
   "source": [
    "print(img.header)"
   ]
  },
  {
   "cell_type": "code",
   "execution_count": 12,
   "metadata": {},
   "outputs": [
    {
     "data": {
      "text/plain": [
       "array([[ -1.98275864,   0.        ,  -0.        , 114.99999237],\n",
       "       [ -0.        ,   1.98275864,  -0.        , -93.45097351],\n",
       "       [  0.        ,   0.        ,   2.        , -66.27710724],\n",
       "       [  0.        ,   0.        ,   0.        ,   1.        ]])"
      ]
     },
     "execution_count": 12,
     "metadata": {},
     "output_type": "execute_result"
    }
   ],
   "source": [
    "img.affine"
   ]
  },
  {
   "cell_type": "markdown",
   "metadata": {},
   "source": [
    "### Brain Extration"
   ]
  },
  {
   "cell_type": "code",
   "execution_count": 13,
   "metadata": {},
   "outputs": [],
   "source": [
    "%%bash\n",
    "fsl5.0-bet ../data/working/S264294/S264294_DTI_gated_20150508093306_12.nii.gz \\\n",
    "    ../data/working/S264294/S264294_DTI_gated_20150508093306_12_brain -m"
   ]
  },
  {
   "cell_type": "markdown",
   "metadata": {},
   "source": [
    "### Eddy Correction\n",
    "\n",
    "* Lets run eddy (new version) instead of eddy_correct (old version)\n",
    "\n",
    "This takes a long time (~ hours)"
   ]
  },
  {
   "cell_type": "code",
   "execution_count": null,
   "metadata": {},
   "outputs": [],
   "source": [
    "%%bash\n",
    "DATAFILE=../data/working/S264294/S264294_DTI_gated_20150508093306_12\n",
    "fsl5.0-fslroi ${DATAFILE} ${DATAFILE}64294 0 1\n"
   ]
  },
  {
   "cell_type": "code",
   "execution_count": 2,
   "metadata": {},
   "outputs": [
    {
     "name": "stderr",
     "output_type": "stream",
     "text": [
      "***************************************************\n",
      "The following COMPULSORY options have not been set:\n",
      "\t--index\tFile containing indices for all volumes in --imain into --acqp and --topup\n",
      "\t--acqp\tFile containing acquisition parameters\n",
      "***************************************************\n",
      "\n",
      "Part of FSL (build 508)\n",
      "eddy \n",
      "Copyright(c) 2011, University of Oxford (Jesper Andersson)\n",
      "\n",
      "Usage: \n",
      "eddy --monsoon\n",
      "\n",
      "Compulsory arguments (You MUST set one or more of):\n",
      "\t--imain\tFile containing all the images to estimate distortions for\n",
      "\t--mask\tMask to indicate brain\n",
      "\t--index\tFile containing indices for all volumes in --imain into --acqp and --topup\n",
      "\t--acqp\tFile containing acquisition parameters\n",
      "\t--bvecs\tFile containing the b-vectors for all volumes in --imain\n",
      "\t--bvals\tFile containing the b-values for all volumes in --imain\n",
      "\t--out\tBasename for output\n",
      "\n",
      "Optional arguments (You may optionally specify one or more of):\n",
      "\t--session\tFile containing session indices for all volumes in --imain\n",
      "\t--topup\tBase name for output files from topup\n",
      "\t--flm\tFirst level EC model (linear/quadratic/cubic)\n",
      "\t--fwhm\tFWHM for conditioning filter when estimating the parameters\n",
      "\t--niter\tNumber of iterations (default 5)\n",
      "\t--resamp\tFinal resampling method (jac/lsr)\n",
      "\t--repol\tDetect and replace outlier slices\n",
      "\t-v,--verbose\tswitch on diagnostic messages\n",
      "\t-h,--help\tdisplay this message\n",
      "\n",
      "\n"
     ]
    }
   ],
   "source": [
    "%%bash\n",
    "DATAFILE=../data/working/S264294/S264294_DTI_gated_20150508093306_12\n",
    "fsl5.0-eddy --imain=${DATAFILE}.nii.gz \\\n",
    "    --mask=${DATAFILE}_brain.nii.gz \\\n",
    "    --bvecs=${DATAFILE}.bvec \\\n",
    "    --bvals=${DATAFILE}.bval \\\n",
    "    --out=${DATAFILE}_eddy"
   ]
  },
  {
   "cell_type": "code",
   "execution_count": 33,
   "metadata": {},
   "outputs": [],
   "source": [
    "%%bash\n",
    "cp ../data/working/S264294/S264294_DTI_gated_20150508093306_12_eddy_brain_mask.nii.gz \\\n",
    "    ../data/working/S264294/S264294_DTI_gated_20150508093306_12_eddy_brain.nii.gz \\\n",
    "    ../data/working/S264294/S264294_DTI_gated_20150508093306_12.bval \\\n",
    "    ../data/working/S264294/S264294_DTI_gated_20150508093306_12.bvec \\\n",
    "    ../data/working/S264294/S264294_DTI_gated_20150508093306_12.json \\\n",
    "    ../data/output/S264294"
   ]
  },
  {
   "cell_type": "markdown",
   "metadata": {},
   "source": [
    "### Now we are ready to fit the stastical models to calculate diffusion tensors"
   ]
  }
 ],
 "metadata": {
  "kernelspec": {
   "display_name": "Python 3",
   "language": "python",
   "name": "python3"
  },
  "language_info": {
   "codemirror_mode": {
    "name": "ipython",
    "version": 3
   },
   "file_extension": ".py",
   "mimetype": "text/x-python",
   "name": "python",
   "nbconvert_exporter": "python",
   "pygments_lexer": "ipython3",
   "version": "3.5.2"
  },
  "widgets": {
   "state": {},
   "version": "1.1.2"
  }
 },
 "nbformat": 4,
 "nbformat_minor": 2
}
