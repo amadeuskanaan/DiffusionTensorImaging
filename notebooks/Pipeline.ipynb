{
 "cells": [
  {
   "cell_type": "markdown",
   "metadata": {},
   "source": [
    "# Pipeline to process PPMI MRI diffusion data\n",
    "\n",
    "### Data\n",
    "Data is downloaded in raw DICOM format from the PPMI website. The example selected here at random is a patient over 70 years old and getting a scan in year 4. \n",
    "\n",
    "### Processing\n",
    "This pipeline is a record of the basic steps to preprocess the data before statistical analysis. The PPMI pre-processing pipeline is available at http://www.ppmi-info.org/wp-content/uploads/2011/12/DTI-processing-Pipeline3.pdf\n",
    "1. Download the data into an input directory, setup workspace\n",
    "1. Convert the DICOM format to NII format, compute bvals and bvecs\n",
    "1. Correct each scan for signal distortions due to eddy currents and head motion\n",
    "1. Rotate gradient directions in response to eddy current corrections. \n",
    "1. Remove non-brain tissue\n",
    "1. Save the data into an output directory\n",
    "\n",
    "\n",
    "This pipeline mainly follows this tutorial http://www.mccauslandcenter.sc.edu/crnl/sw/tutorial/html/dti.html"
   ]
  },
  {
   "cell_type": "markdown",
   "metadata": {},
   "source": [
    "### Setup\n",
    "1. Download the data, create directories"
   ]
  },
  {
   "cell_type": "code",
   "execution_count": 14,
   "metadata": {},
   "outputs": [
    {
     "name": "stdout",
     "output_type": "stream",
     "text": [
      "total 145080\n",
      "drwxrwx--- 1 root vboxsf    2144 Apr 17 08:27 .\n",
      "drwxrwx--- 1 root vboxsf     128 Apr 17 09:49 ..\n",
      "-rwxrwx--- 1 root vboxsf 2283182 Apr 12 20:06 PPMI_3107_MR_DTI_gated__br_raw_20150629091644684_2_S264294_I498877.dcm\n",
      "-rwxrwx--- 1 root vboxsf 2283200 Apr 12 20:06 PPMI_3107_MR_DTI_gated__br_raw_20150629091645962_33_S264294_I498877.dcm\n",
      "-rwxrwx--- 1 root vboxsf 2283196 Apr 12 20:05 PPMI_3107_MR_DTI_gated__br_raw_20150629091647410_20_S264294_I498877.dcm\n"
     ]
    }
   ],
   "source": [
    "%%bash\n",
    "ls -al  ../data/input/S264294 | head -6"
   ]
  },
  {
   "cell_type": "code",
   "execution_count": 15,
   "metadata": {},
   "outputs": [
    {
     "name": "stdout",
     "output_type": "stream",
     "text": [
      "142M\t../data/input/S264294\n"
     ]
    }
   ],
   "source": [
    "%%bash\n",
    "du -s -h ../data/input/S264294"
   ]
  },
  {
   "cell_type": "code",
   "execution_count": 17,
   "metadata": {},
   "outputs": [],
   "source": [
    "%%bash\n",
    "mkdir ../data/working/S264294\n",
    "mkdir ../data/output/S264294"
   ]
  },
  {
   "cell_type": "markdown",
   "metadata": {},
   "source": [
    "### Convert DICOM data to NII"
   ]
  },
  {
   "cell_type": "code",
   "execution_count": 19,
   "metadata": {},
   "outputs": [
    {
     "name": "stdout",
     "output_type": "stream",
     "text": [
      "Chris Rorden's dcm2niiX version v1.0.20180328 GCC5.4.0 (64-bit Linux)\n",
      "Found 65 DICOM image(s)\n",
      "Warning: Assuming 7FE0,0010 refers to image not icon\n",
      "Warning: Assuming 7FE0,0010 refers to image not icon\n",
      "Warning: Assuming 7FE0,0010 refers to image not icon\n",
      "Warning: Assuming 7FE0,0010 refers to image not icon\n",
      "Warning: Assuming 7FE0,0010 refers to image not icon\n",
      "Warning: Assuming 7FE0,0010 refers to image not icon\n",
      "Warning: Assuming 7FE0,0010 refers to image not icon\n",
      "Warning: Assuming 7FE0,0010 refers to image not icon\n",
      "Warning: Assuming 7FE0,0010 refers to image not icon\n",
      "Warning: Assuming 7FE0,0010 refers to image not icon\n",
      "Warning: Assuming 7FE0,0010 refers to image not icon\n",
      "Warning: Assuming 7FE0,0010 refers to image not icon\n",
      "Warning: Assuming 7FE0,0010 refers to image not icon\n",
      "Warning: Assuming 7FE0,0010 refers to image not icon\n",
      "Warning: Assuming 7FE0,0010 refers to image not icon\n",
      "Warning: Assuming 7FE0,0010 refers to image not icon\n",
      "Warning: Assuming 7FE0,0010 refers to image not icon\n",
      "Warning: Assuming 7FE0,0010 refers to image not icon\n",
      "Warning: Assuming 7FE0,0010 refers to image not icon\n",
      "Warning: Assuming 7FE0,0010 refers to image not icon\n",
      "Warning: Assuming 7FE0,0010 refers to image not icon\n",
      "Warning: Assuming 7FE0,0010 refers to image not icon\n",
      "Warning: Assuming 7FE0,0010 refers to image not icon\n",
      "Warning: Assuming 7FE0,0010 refers to image not icon\n",
      "Warning: Assuming 7FE0,0010 refers to image not icon\n",
      "Warning: Assuming 7FE0,0010 refers to image not icon\n",
      "Warning: Assuming 7FE0,0010 refers to image not icon\n",
      "Warning: Assuming 7FE0,0010 refers to image not icon\n",
      "Warning: Assuming 7FE0,0010 refers to image not icon\n",
      "Warning: Assuming 7FE0,0010 refers to image not icon\n",
      "Warning: Assuming 7FE0,0010 refers to image not icon\n",
      "Warning: Assuming 7FE0,0010 refers to image not icon\n",
      "Warning: Assuming 7FE0,0010 refers to image not icon\n",
      "Warning: Assuming 7FE0,0010 refers to image not icon\n",
      "Warning: Assuming 7FE0,0010 refers to image not icon\n",
      "Warning: Assuming 7FE0,0010 refers to image not icon\n",
      "Warning: Assuming 7FE0,0010 refers to image not icon\n",
      "Warning: Assuming 7FE0,0010 refers to image not icon\n",
      "Warning: Assuming 7FE0,0010 refers to image not icon\n",
      "Warning: Assuming 7FE0,0010 refers to image not icon\n",
      "Warning: Assuming 7FE0,0010 refers to image not icon\n",
      "Warning: Assuming 7FE0,0010 refers to image not icon\n",
      "Warning: Assuming 7FE0,0010 refers to image not icon\n",
      "Warning: Assuming 7FE0,0010 refers to image not icon\n",
      "Warning: Assuming 7FE0,0010 refers to image not icon\n",
      "Warning: Assuming 7FE0,0010 refers to image not icon\n",
      "Warning: Assuming 7FE0,0010 refers to image not icon\n",
      "Warning: Assuming 7FE0,0010 refers to image not icon\n",
      "Warning: Assuming 7FE0,0010 refers to image not icon\n",
      "Warning: Assuming 7FE0,0010 refers to image not icon\n",
      "Warning: Assuming 7FE0,0010 refers to image not icon\n",
      "Warning: Assuming 7FE0,0010 refers to image not icon\n",
      "Warning: Assuming 7FE0,0010 refers to image not icon\n",
      "Warning: Assuming 7FE0,0010 refers to image not icon\n",
      "Warning: Assuming 7FE0,0010 refers to image not icon\n",
      "Warning: Assuming 7FE0,0010 refers to image not icon\n",
      "Warning: Assuming 7FE0,0010 refers to image not icon\n",
      "Warning: Assuming 7FE0,0010 refers to image not icon\n",
      "Warning: Assuming 7FE0,0010 refers to image not icon\n",
      "Warning: Assuming 7FE0,0010 refers to image not icon\n",
      "Warning: Assuming 7FE0,0010 refers to image not icon\n",
      "Warning: Assuming 7FE0,0010 refers to image not icon\n",
      "Warning: Assuming 7FE0,0010 refers to image not icon\n",
      "Warning: Assuming 7FE0,0010 refers to image not icon\n",
      "Warning: Assuming 7FE0,0010 refers to image not icon\n",
      "slices stacked despite varying acquisition numbers (if this is not desired please recompile)\n",
      "Warning: CSA slice timing appears corrupted (range 0..11857.5, TR=900ms)\n",
      "Warning: Saving 65 DTI gradients. Validate vectors (image slice orientation not reported, e.g. 2001,100B).\n",
      "Convert 65 DICOM as ../data/working/S264294/S264294_DTI_gated_20150508093306_12 (116x116x72x65)\n",
      "compress: \"/usr/bin/pigz\" -n -f -6 \"../data/working/S264294/S264294_DTI_gated_20150508093306_12.nii\"\n",
      "Conversion required 19.059444 seconds (1.493815 for core code).\n"
     ]
    }
   ],
   "source": [
    "%%bash\n",
    "dcm2niix -o ../data/working/S264294 -z y  ../data/input/S264294"
   ]
  },
  {
   "cell_type": "code",
   "execution_count": 20,
   "metadata": {},
   "outputs": [
    {
     "name": "stdout",
     "output_type": "stream",
     "text": [
      "total 60192\n",
      "drwxrwx--- 1 root vboxsf      192 Apr 17 10:19 .\n",
      "drwxrwx--- 1 root vboxsf      128 Apr 17 10:08 ..\n",
      "-rwxrwx--- 1 root vboxsf      322 Apr 17 10:19 S264294_DTI_gated_20150508093306_12.bval\n",
      "-rwxrwx--- 1 root vboxsf     1815 Apr 17 10:19 S264294_DTI_gated_20150508093306_12.bvec\n",
      "-rwxrwx--- 1 root vboxsf     2310 Apr 17 10:19 S264294_DTI_gated_20150508093306_12.json\n",
      "-rwxrwx--- 1 root vboxsf 61001413 Apr 17 10:19 S264294_DTI_gated_20150508093306_12.nii.gz\n"
     ]
    }
   ],
   "source": [
    "%%bash\n",
    "ls -al ../data/working/S264294"
   ]
  },
  {
   "cell_type": "code",
   "execution_count": 25,
   "metadata": {},
   "outputs": [],
   "source": [
    "%matplotlib inline\n",
    "import nibabel as nib\n",
    "\n",
    "img = nib.load(\"../data/working/S264294/S264294_DTI_gated_20150508093306_12.nii.gz\")"
   ]
  },
  {
   "cell_type": "code",
   "execution_count": 27,
   "metadata": {},
   "outputs": [
    {
     "name": "stdout",
     "output_type": "stream",
     "text": [
      "<class 'nibabel.nifti1.Nifti1Header'> object, endian='<'\n",
      "sizeof_hdr      : 348\n",
      "data_type       : b''\n",
      "db_name         : b''\n",
      "extents         : 0\n",
      "session_error   : 0\n",
      "regular         : b'r'\n",
      "dim_info        : 57\n",
      "dim             : [  4 116 116  72  65   0   0   0]\n",
      "intent_p1       : 0.0\n",
      "intent_p2       : 0.0\n",
      "intent_p3       : 0.0\n",
      "intent_code     : none\n",
      "datatype        : int16\n",
      "bitpix          : 16\n",
      "slice_start     : 0\n",
      "pixdim          : [-1.         1.9827586  1.9827586  2.         0.9        0.\n",
      "  0.         0.       ]\n",
      "vox_offset      : 0.0\n",
      "scl_slope       : nan\n",
      "scl_inter       : nan\n",
      "slice_end       : 0\n",
      "slice_code      : sequential increasing\n",
      "xyzt_units      : 10\n",
      "cal_max         : 0.0\n",
      "cal_min         : 0.0\n",
      "slice_duration  : 0.0\n",
      "toffset         : 0.0\n",
      "glmax           : 0\n",
      "glmin           : 0\n",
      "descrip         : b'TE=88;Time=101826.620;phase=1'\n",
      "aux_file        : b''\n",
      "qform_code      : scanner\n",
      "sform_code      : scanner\n",
      "quatern_b       : 0.0\n",
      "quatern_c       : 1.0\n",
      "quatern_d       : 0.0\n",
      "qoffset_x       : 114.99999\n",
      "qoffset_y       : -93.45097\n",
      "qoffset_z       : -66.27711\n",
      "srow_x          : [ -1.9827586   0.         -0.        114.99999  ]\n",
      "srow_y          : [ -0.          1.9827586  -0.        -93.45097  ]\n",
      "srow_z          : [  0.        0.        2.      -66.27711]\n",
      "intent_name     : b''\n",
      "magic           : b'n+1'\n"
     ]
    }
   ],
   "source": [
    "print(img.header)"
   ]
  },
  {
   "cell_type": "code",
   "execution_count": 28,
   "metadata": {},
   "outputs": [
    {
     "data": {
      "text/plain": [
       "array([[ -1.98275864,   0.        ,  -0.        , 114.99999237],\n",
       "       [ -0.        ,   1.98275864,  -0.        , -93.45097351],\n",
       "       [  0.        ,   0.        ,   2.        , -66.27710724],\n",
       "       [  0.        ,   0.        ,   0.        ,   1.        ]])"
      ]
     },
     "execution_count": 28,
     "metadata": {},
     "output_type": "execute_result"
    }
   ],
   "source": [
    "img.affine"
   ]
  },
  {
   "cell_type": "markdown",
   "metadata": {},
   "source": [
    "### Eddy Correction\n",
    "\n",
    "This takes a long time (~ 1 hour)"
   ]
  },
  {
   "cell_type": "code",
   "execution_count": 30,
   "metadata": {},
   "outputs": [
    {
     "name": "stdout",
     "output_type": "stream",
     "text": [
      "processing ../data/working/S264294/S264294_DTI_gated_20150508093306_12_eddy_tmp0000\n",
      "processing ../data/working/S264294/S264294_DTI_gated_20150508093306_12_eddy_tmp0001\n",
      "processing ../data/working/S264294/S264294_DTI_gated_20150508093306_12_eddy_tmp0002\n",
      "processing ../data/working/S264294/S264294_DTI_gated_20150508093306_12_eddy_tmp0003\n",
      "processing ../data/working/S264294/S264294_DTI_gated_20150508093306_12_eddy_tmp0004\n",
      "processing ../data/working/S264294/S264294_DTI_gated_20150508093306_12_eddy_tmp0005\n",
      "processing ../data/working/S264294/S264294_DTI_gated_20150508093306_12_eddy_tmp0006\n",
      "processing ../data/working/S264294/S264294_DTI_gated_20150508093306_12_eddy_tmp0007\n",
      "processing ../data/working/S264294/S264294_DTI_gated_20150508093306_12_eddy_tmp0008\n",
      "processing ../data/working/S264294/S264294_DTI_gated_20150508093306_12_eddy_tmp0009\n",
      "processing ../data/working/S264294/S264294_DTI_gated_20150508093306_12_eddy_tmp0010\n",
      "processing ../data/working/S264294/S264294_DTI_gated_20150508093306_12_eddy_tmp0011\n",
      "processing ../data/working/S264294/S264294_DTI_gated_20150508093306_12_eddy_tmp0012\n",
      "processing ../data/working/S264294/S264294_DTI_gated_20150508093306_12_eddy_tmp0013\n",
      "processing ../data/working/S264294/S264294_DTI_gated_20150508093306_12_eddy_tmp0014\n",
      "processing ../data/working/S264294/S264294_DTI_gated_20150508093306_12_eddy_tmp0015\n",
      "processing ../data/working/S264294/S264294_DTI_gated_20150508093306_12_eddy_tmp0016\n",
      "processing ../data/working/S264294/S264294_DTI_gated_20150508093306_12_eddy_tmp0017\n",
      "processing ../data/working/S264294/S264294_DTI_gated_20150508093306_12_eddy_tmp0018\n",
      "processing ../data/working/S264294/S264294_DTI_gated_20150508093306_12_eddy_tmp0019\n",
      "processing ../data/working/S264294/S264294_DTI_gated_20150508093306_12_eddy_tmp0020\n",
      "processing ../data/working/S264294/S264294_DTI_gated_20150508093306_12_eddy_tmp0021\n",
      "processing ../data/working/S264294/S264294_DTI_gated_20150508093306_12_eddy_tmp0022\n",
      "processing ../data/working/S264294/S264294_DTI_gated_20150508093306_12_eddy_tmp0023\n",
      "processing ../data/working/S264294/S264294_DTI_gated_20150508093306_12_eddy_tmp0024\n",
      "processing ../data/working/S264294/S264294_DTI_gated_20150508093306_12_eddy_tmp0025\n",
      "processing ../data/working/S264294/S264294_DTI_gated_20150508093306_12_eddy_tmp0026\n",
      "processing ../data/working/S264294/S264294_DTI_gated_20150508093306_12_eddy_tmp0027\n",
      "processing ../data/working/S264294/S264294_DTI_gated_20150508093306_12_eddy_tmp0028\n",
      "processing ../data/working/S264294/S264294_DTI_gated_20150508093306_12_eddy_tmp0029\n",
      "processing ../data/working/S264294/S264294_DTI_gated_20150508093306_12_eddy_tmp0030\n",
      "processing ../data/working/S264294/S264294_DTI_gated_20150508093306_12_eddy_tmp0031\n",
      "processing ../data/working/S264294/S264294_DTI_gated_20150508093306_12_eddy_tmp0032\n",
      "processing ../data/working/S264294/S264294_DTI_gated_20150508093306_12_eddy_tmp0033\n",
      "processing ../data/working/S264294/S264294_DTI_gated_20150508093306_12_eddy_tmp0034\n",
      "processing ../data/working/S264294/S264294_DTI_gated_20150508093306_12_eddy_tmp0035\n",
      "processing ../data/working/S264294/S264294_DTI_gated_20150508093306_12_eddy_tmp0036\n",
      "processing ../data/working/S264294/S264294_DTI_gated_20150508093306_12_eddy_tmp0037\n",
      "processing ../data/working/S264294/S264294_DTI_gated_20150508093306_12_eddy_tmp0038\n",
      "processing ../data/working/S264294/S264294_DTI_gated_20150508093306_12_eddy_tmp0039\n",
      "processing ../data/working/S264294/S264294_DTI_gated_20150508093306_12_eddy_tmp0040\n",
      "processing ../data/working/S264294/S264294_DTI_gated_20150508093306_12_eddy_tmp0041\n",
      "processing ../data/working/S264294/S264294_DTI_gated_20150508093306_12_eddy_tmp0042\n",
      "processing ../data/working/S264294/S264294_DTI_gated_20150508093306_12_eddy_tmp0043\n",
      "processing ../data/working/S264294/S264294_DTI_gated_20150508093306_12_eddy_tmp0044\n",
      "processing ../data/working/S264294/S264294_DTI_gated_20150508093306_12_eddy_tmp0045\n",
      "processing ../data/working/S264294/S264294_DTI_gated_20150508093306_12_eddy_tmp0046\n",
      "processing ../data/working/S264294/S264294_DTI_gated_20150508093306_12_eddy_tmp0047\n",
      "processing ../data/working/S264294/S264294_DTI_gated_20150508093306_12_eddy_tmp0048\n",
      "processing ../data/working/S264294/S264294_DTI_gated_20150508093306_12_eddy_tmp0049\n",
      "processing ../data/working/S264294/S264294_DTI_gated_20150508093306_12_eddy_tmp0050\n",
      "processing ../data/working/S264294/S264294_DTI_gated_20150508093306_12_eddy_tmp0051\n",
      "processing ../data/working/S264294/S264294_DTI_gated_20150508093306_12_eddy_tmp0052\n",
      "processing ../data/working/S264294/S264294_DTI_gated_20150508093306_12_eddy_tmp0053\n",
      "processing ../data/working/S264294/S264294_DTI_gated_20150508093306_12_eddy_tmp0054\n",
      "processing ../data/working/S264294/S264294_DTI_gated_20150508093306_12_eddy_tmp0055\n",
      "processing ../data/working/S264294/S264294_DTI_gated_20150508093306_12_eddy_tmp0056\n",
      "processing ../data/working/S264294/S264294_DTI_gated_20150508093306_12_eddy_tmp0057\n",
      "processing ../data/working/S264294/S264294_DTI_gated_20150508093306_12_eddy_tmp0058\n",
      "processing ../data/working/S264294/S264294_DTI_gated_20150508093306_12_eddy_tmp0059\n",
      "processing ../data/working/S264294/S264294_DTI_gated_20150508093306_12_eddy_tmp0060\n",
      "processing ../data/working/S264294/S264294_DTI_gated_20150508093306_12_eddy_tmp0061\n",
      "processing ../data/working/S264294/S264294_DTI_gated_20150508093306_12_eddy_tmp0062\n",
      "processing ../data/working/S264294/S264294_DTI_gated_20150508093306_12_eddy_tmp0063\n",
      "processing ../data/working/S264294/S264294_DTI_gated_20150508093306_12_eddy_tmp0064\n"
     ]
    }
   ],
   "source": [
    "%%bash\n",
    "fsl5.0-eddy_correct ../data/working/S264294/S264294_DTI_gated_20150508093306_12.nii.gz \\\n",
    "  ../data/working/S264294/S264294_DTI_gated_20150508093306_12_eddy 0"
   ]
  },
  {
   "cell_type": "markdown",
   "metadata": {},
   "source": [
    "### Brain Extration"
   ]
  },
  {
   "cell_type": "code",
   "execution_count": 31,
   "metadata": {},
   "outputs": [],
   "source": [
    "%%bash\n",
    "fsl5.0-bet ../data/working/S264294/S264294_DTI_gated_20150508093306_12_eddy.nii.gz \\\n",
    "    ../data/working/S264294/S264294_DTI_gated_20150508093306_12_eddy_brain -m"
   ]
  },
  {
   "cell_type": "code",
   "execution_count": 33,
   "metadata": {},
   "outputs": [],
   "source": [
    "%%bash\n",
    "cp ../data/working/S264294/S264294_DTI_gated_20150508093306_12_eddy_brain_mask.nii.gz \\\n",
    "    ../data/working/S264294/S264294_DTI_gated_20150508093306_12_eddy_brain.nii.gz \\\n",
    "    ../data/working/S264294/S264294_DTI_gated_20150508093306_12.bval \\\n",
    "    ../data/working/S264294/S264294_DTI_gated_20150508093306_12.bvec \\\n",
    "    ../data/working/S264294/S264294_DTI_gated_20150508093306_12.json \\\n",
    "    ../data/output/S264294"
   ]
  },
  {
   "cell_type": "markdown",
   "metadata": {},
   "source": [
    "### Now we are ready to fit the stastical models to calculate diffusion tensors"
   ]
  }
 ],
 "metadata": {
  "kernelspec": {
   "display_name": "Python 3",
   "language": "python",
   "name": "python3"
  },
  "language_info": {
   "codemirror_mode": {
    "name": "ipython",
    "version": 3
   },
   "file_extension": ".py",
   "mimetype": "text/x-python",
   "name": "python",
   "nbconvert_exporter": "python",
   "pygments_lexer": "ipython3",
   "version": "3.5.2"
  },
  "widgets": {
   "state": {},
   "version": "1.1.2"
  }
 },
 "nbformat": 4,
 "nbformat_minor": 2
}
