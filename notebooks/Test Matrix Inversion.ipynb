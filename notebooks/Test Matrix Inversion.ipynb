{
 "cells": [
  {
   "cell_type": "code",
   "execution_count": 1,
   "metadata": {},
   "outputs": [],
   "source": [
    "import numpy as np"
   ]
  },
  {
   "cell_type": "code",
   "execution_count": 20,
   "metadata": {},
   "outputs": [],
   "source": [
    "beta = 10."
   ]
  },
  {
   "cell_type": "code",
   "execution_count": 21,
   "metadata": {},
   "outputs": [
    {
     "data": {
      "text/plain": [
       "array([[0.75436819, 0.69166737, 0.85677186, 0.38661258, 0.50022318,\n",
       "        0.40297796],\n",
       "       [0.1278122 , 0.60793439, 0.63034984, 0.48914067, 0.72439819,\n",
       "        0.31402224],\n",
       "       [0.6770085 , 0.46379861, 0.14284316, 0.56535942, 0.63693174,\n",
       "        0.76988556]])"
      ]
     },
     "execution_count": 21,
     "metadata": {},
     "output_type": "execute_result"
    }
   ],
   "source": [
    "manifold = np.random.rand(3, 6)\n",
    "\n",
    "manifold"
   ]
  },
  {
   "cell_type": "code",
   "execution_count": 22,
   "metadata": {},
   "outputs": [],
   "source": [
    "def dx_manifold(manifold, idx):\n",
    "    return(manifold[0, idx])\n",
    "\n",
    "def dy_manifold(manifold, idx):\n",
    "    return(manifold[1, idx])\n",
    "\n",
    "def dz_manifold(manifold, idx):\n",
    "    return(manifold[2, idx])"
   ]
  },
  {
   "cell_type": "code",
   "execution_count": 23,
   "metadata": {},
   "outputs": [],
   "source": [
    "X4x = dx_manifold(manifold, 0)\n",
    "X4y = dy_manifold(manifold, 0)\n",
    "X4z = dz_manifold(manifold, 0)\n",
    "\n",
    "#print_trace(X4x, \"X4x\")\n",
    "\n",
    "X5x = dx_manifold(manifold, 1)\n",
    "X5y = dy_manifold(manifold, 1)\n",
    "X5z = dz_manifold(manifold, 1)\n",
    "\n",
    "X6x = dx_manifold(manifold, 2)\n",
    "X6y = dy_manifold(manifold, 2)\n",
    "X6z = dz_manifold(manifold, 2)\n",
    "\n",
    "X7x = dx_manifold(manifold, 3)\n",
    "X7y = dy_manifold(manifold, 3)\n",
    "X7z = dz_manifold(manifold, 3)\n",
    "\n",
    "X8x = dx_manifold(manifold, 4)\n",
    "X8y = dy_manifold(manifold, 4)\n",
    "X8z = dz_manifold(manifold, 4)\n",
    "\n",
    "X9x = dx_manifold(manifold, 5)\n",
    "X9y = dy_manifold(manifold, 5)\n",
    "X9z = dz_manifold(manifold, 5)"
   ]
  },
  {
   "cell_type": "code",
   "execution_count": 24,
   "metadata": {},
   "outputs": [],
   "source": [
    "g11 = np.ones(X4x.shape) + beta * (X4x*X4x + X5x*X5x + X6x*X6x + X7x*X7x + \n",
    "                                   X8x*X8x + X9x*X9x)\n",
    "g22 = np.ones(X4y.shape) + beta * (X4y*X4y + X5y*X5y + X6y*X6y + X7y*X7y + \n",
    "                                   X8y*X8y + X9y*X9y)\n",
    "g33 = np.ones(X4z.shape) + beta * (X4z*X4z + X5z*X5z + X6z*X6z + X7z*X7z + \n",
    "                                   X8z*X8z + X9z*X9z)\n",
    "g12 = beta * (X4x*X4y + X5x*X5y + X6x*X6y + X7x*X7y + X8x*X8y + X9x*X9y)\n",
    "g23 = beta * (X4y*X4z + X5y*X5z + X6y*X6z + X7y*X7z + X8y*X8z + X9y*X9z)\n",
    "g13 = beta * (X4x*X4z + X5x*X5z + X6x*X6z + X7x*X7z + X8x*X8z + X9x*X9z)"
   ]
  },
  {
   "cell_type": "code",
   "execution_count": 35,
   "metadata": {},
   "outputs": [
    {
     "name": "stdout",
     "output_type": "stream",
     "text": [
      "[[24.43616894 17.34984589 18.01322031]\n",
      " [17.34984589 17.458824   14.38223903]\n",
      " [18.01322031 14.38223903 21.11890908]]\n",
      "922.8391397057328\n"
     ]
    }
   ],
   "source": [
    "G = np.array([[g11, g12, g13], [g12, g22, g23], [g13, g23, g33]])\n",
    "print(G)\n",
    "print(np.linalg.det(G))"
   ]
  },
  {
   "cell_type": "code",
   "execution_count": 41,
   "metadata": {},
   "outputs": [
    {
     "data": {
      "text/plain": [
       "(array([54.54055555,  3.22219658,  5.2511499 ]),\n",
       " array([[-0.63889345, -0.678542  , -0.36248574],\n",
       "        [-0.51912434,  0.7280064 , -0.4477908 ],\n",
       "        [-0.56773681,  0.09791544,  0.81736619]]))"
      ]
     },
     "execution_count": 41,
     "metadata": {},
     "output_type": "execute_result"
    }
   ],
   "source": [
    "np.linalg.eig(G)"
   ]
  },
  {
   "cell_type": "code",
   "execution_count": 25,
   "metadata": {},
   "outputs": [],
   "source": [
    "#print_trace(g11, \"g11\")\n",
    "C11 = g22*g33 - g23*g23\n",
    "C22 = g11*g33 - g13*g13\n",
    "C33 = g11*g22 - g12*g12\n",
    "C12 = -g12*g33 + g13*g23\n",
    "C23 = -g11*g23 + g13*g12\n",
    "C13 = g12*g23 - g13*g22"
   ]
  },
  {
   "cell_type": "code",
   "execution_count": 26,
   "metadata": {},
   "outputs": [],
   "source": [
    "#print_trace(C11, \"C11\")\n",
    "detg = g11*C11 + g12*C12 + g13*C13\n",
    "#print_trace(detg, \"detg\")\n",
    "\n",
    "gm05 = 1. / np.sqrt(detg)\n",
    "#print_trace(gm05, \"gm05\")"
   ]
  },
  {
   "cell_type": "code",
   "execution_count": 27,
   "metadata": {},
   "outputs": [
    {
     "data": {
      "text/plain": [
       "922.8391397057337"
      ]
     },
     "execution_count": 27,
     "metadata": {},
     "output_type": "execute_result"
    }
   ],
   "source": [
    "detg"
   ]
  },
  {
   "cell_type": "code",
   "execution_count": 29,
   "metadata": {},
   "outputs": [
    {
     "data": {
      "text/plain": [
       "0.032918269554232986"
      ]
     },
     "execution_count": 29,
     "metadata": {},
     "output_type": "execute_result"
    }
   ],
   "source": [
    "gm05"
   ]
  },
  {
   "cell_type": "code",
   "execution_count": 44,
   "metadata": {},
   "outputs": [
    {
     "name": "stdout",
     "output_type": "stream",
     "text": [
      "[[ 0.17539624 -0.11631429 -0.07039148]\n",
      " [-0.11631429  0.20760836 -0.04217444]\n",
      " [-0.07039148 -0.04217444  0.13611215]]\n"
     ]
    },
    {
     "data": {
      "text/plain": [
       "array([[ 0.17539624, -0.11631429, -0.07039148],\n",
       "       [-0.11631429,  0.20760836, -0.04217444],\n",
       "       [-0.07039148, -0.04217444,  0.13611215]])"
      ]
     },
     "execution_count": 44,
     "metadata": {},
     "output_type": "execute_result"
    }
   ],
   "source": [
    "print(np.linalg.inv(G))\n",
    "np.array([[C11, C12, C13], [C12, C22, C23], [C13, C23, C33]]) / detg\n"
   ]
  },
  {
   "cell_type": "code",
   "execution_count": 36,
   "metadata": {},
   "outputs": [],
   "source": [
    "if 0:\n",
    "    #del g11, g22, g33, g12, g23, g13\n",
    "\n",
    "    p4 = C11*X4x + C12*X4y + C13*X4z\n",
    "    p5 = C11*X5x + C12*X5y + C13*X5z\n",
    "    p6 = C11*X6x + C12*X6y + C13*X6z\n",
    "    p7 = C11*X7x + C12*X7y + C13*X7z\n",
    "    p8 = C11*X8x + C12*X8y + C13*X8z\n",
    "    p9 = C11*X9x + C12*X9y + C13*X9z\n",
    "\n",
    "    q4 = C12*X4x + C22*X4y + C23*X4z\n",
    "    q5 = C12*X5x + C22*X5y + C23*X5z\n",
    "    q6 = C12*X6x + C22*X6y + C23*X6z\n",
    "    q7 = C12*X7x + C22*X7y + C23*X7z\n",
    "    q8 = C12*X8x + C22*X8y + C23*X8z\n",
    "    q9 = C12*X9x + C22*X9y + C23*X9z\n",
    "\n",
    "    r4 = C13*X4x + C23*X4y + C33*X4z\n",
    "    r5 = C13*X5x + C23*X5y + C33*X5z\n",
    "    r6 = C13*X6x + C23*X6y + C33*X6z\n",
    "    r7 = C13*X7x + C23*X7y + C33*X7z\n",
    "    r8 = C13*X8x + C23*X8y + C33*X8z\n",
    "    r9 = C13*X9x + C23*X9y + C33*X9z\n",
    "\n",
    "    #print_trace(p4, \"p4\")\n",
    " \n",
    "    #del C11, C22, C33, C12, C23, C13\n",
    "\n",
    "    # Beltrami operator incrementals\n",
    "    b4inc = (dpx(p4 * gm05) + dpy(q4 * gm05) + dpz(r4 * gm05)) * np.squeeze(gm05)\n",
    "    b5inc = (dpx(p5 * gm05) + dpy(q5 * gm05) + dpz(r5 * gm05)) * np.squeeze(gm05)\n",
    "    b6inc = (dpx(p6 * gm05) + dpy(q6 * gm05) + dpz(r6 * gm05)) * np.squeeze(gm05)\n",
    "    b7inc = (dpx(p7 * gm05) + dpy(q7 * gm05) + dpz(r7 * gm05)) * np.squeeze(gm05)\n",
    "    b8inc = (dpx(p8 * gm05) + dpy(q8 * gm05) + dpz(r8 * gm05)) * np.squeeze(gm05)\n",
    "    b9inc = (dpx(p9 * gm05) + dpy(q9 * gm05) + dpz(r9 * gm05)) * np.squeeze(gm05)"
   ]
  },
  {
   "cell_type": "code",
   "execution_count": null,
   "metadata": {},
   "outputs": [],
   "source": []
  }
 ],
 "metadata": {
  "kernelspec": {
   "display_name": "Python 3",
   "language": "python",
   "name": "python3"
  },
  "language_info": {
   "codemirror_mode": {
    "name": "ipython",
    "version": 3
   },
   "file_extension": ".py",
   "mimetype": "text/x-python",
   "name": "python",
   "nbconvert_exporter": "python",
   "pygments_lexer": "ipython3",
   "version": "3.5.2"
  },
  "widgets": {
   "state": {},
   "version": "1.1.2"
  }
 },
 "nbformat": 4,
 "nbformat_minor": 2
}
