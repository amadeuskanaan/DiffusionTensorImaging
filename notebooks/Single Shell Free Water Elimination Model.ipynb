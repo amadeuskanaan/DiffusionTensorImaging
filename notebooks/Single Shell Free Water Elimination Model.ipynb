{
 "cells": [
  {
   "cell_type": "markdown",
   "metadata": {},
   "source": [
    "# Introduction\n",
    "This document details out an implementation of a Free Water Elimination model for Diffusion Tensor MRI. We are mainly following the implementation in [1] (Pasternak et al. 2009) with a few simplifications suggested in [2] (Pasternak et al. 2012). The code is similar to the Matlab procedure for the Beltrami flow given in [3] (Kimmel Numerical Geometry of \n",
    "\n",
    "\n"
   ]
  },
  {
   "cell_type": "markdown",
   "metadata": {},
   "source": [
    "# References\n",
    "1. Pasternak, O. , Sochen, N. , Gur, Y. , Intrator, N. and Assaf, Y. (2009), Free water elimination and mapping from diffusion MRI. Magn. Reson. Med., 62: 717-730. [doi:10.1002/mrm.22055](https://doi.org/10.1002/mrm.22055)\n",
    "2. Pasternak O., Maier-Hein K., Baumgartner C., Shenton M.E., Rathi Y., Westin CF. (2014) The Estimation of Free-Water Corrected Diffusion Tensors. In: Westin CF., Vilanova A., Burgeth B. (eds) Visualization and Processing of Tensors and Higher Order Descriptors for Multi-Valued Data. Mathematics and Visualization. Springer, Berlin, Heidelberg [doi:10.1007/978-3-642-54301-2_11](https://doi.org/10.1007/978-3-642-54301-2_11)\n",
    "3. Kimmel, Ron. \"Geometric Framework in Image Processing.\" Numerical Geometry of Images: Theory, Algorithms, and Applications. N.p.: Springer, 2012. N. pag. Print. [doi:10.1007/978-0-387-21637-9](https://doi.org/10.1007/978-0-387-21637-9)"
   ]
  }
 ],
 "metadata": {
  "kernelspec": {
   "display_name": "Python 3",
   "language": "python",
   "name": "python3"
  },
  "language_info": {
   "codemirror_mode": {
    "name": "ipython",
    "version": 3
   },
   "file_extension": ".py",
   "mimetype": "text/x-python",
   "name": "python",
   "nbconvert_exporter": "python",
   "pygments_lexer": "ipython3",
   "version": "3.5.2"
  },
  "widgets": {
   "state": {},
   "version": "1.1.2"
  }
 },
 "nbformat": 4,
 "nbformat_minor": 2
}
